{
 "cells": [
  {
   "cell_type": "markdown",
   "id": "0442d3c7",
   "metadata": {},
   "source": [
    "# Tutorial: Loading and Visualizing the documents from the O4B dataset"
   ]
  },
  {
   "cell_type": "markdown",
   "id": "0f90944d",
   "metadata": {},
   "source": [
    "The extracted directory will contain 7 files - 1 source and 1 target file for each of the splits, namely train, dev and test. For instance, for training set the file names will be train.source and train.target. The additional file called refs.bib consist of the bibtex reference for the articles used for creating O4B.\n",
    "\n",
    "In both the source and target files, each line represents 1 record."
   ]
  },
  {
   "cell_type": "code",
   "execution_count": 1,
   "id": "1ac95fa2",
   "metadata": {},
   "outputs": [],
   "source": [
    "from langchain.document_loaders import UnstructuredFileLoader"
   ]
  },
  {
   "cell_type": "code",
   "execution_count": 2,
   "id": "e50026d4",
   "metadata": {},
   "outputs": [
    {
     "name": "stdout",
     "output_type": "stream",
     "text": [
      "/Users/saucabadal/SiaTests/Dataset-v1/tutorials\r\n"
     ]
    }
   ],
   "source": [
    "!pwd"
   ]
  },
  {
   "cell_type": "markdown",
   "id": "6fb53a4b",
   "metadata": {},
   "source": [
    "The dataset is comprised of 13.966, 1.746, 1.746 full-text articles/summaries for train, validation and test respectively."
   ]
  },
  {
   "cell_type": "markdown",
   "id": "90c9ed61",
   "metadata": {},
   "source": [
    "### Test split"
   ]
  },
  {
   "cell_type": "code",
   "execution_count": 10,
   "id": "16053c86",
   "metadata": {},
   "outputs": [],
   "source": [
    "source_loader_test = UnstructuredFileLoader(\"../data/open4business/Open4Business/test.source\", mode=\"elements\")\n",
    "# Unstructured creates different “elements” for different chunks of text.\n",
    "# by default we combine those together, but you can easily keep that separation \n",
    "# by specifying mode=\"elements\".\n",
    "\n",
    "target_loader_test = UnstructuredFileLoader(\"../data/open4business/Open4Business/test.target\", mode=\"elements\")\n",
    "\n",
    "docs_test = source_loader_test.load()\n",
    "# As each line reprents 1 record, by specifying mode=\"elements\" each chunk of text represents one full-text article\n",
    "# docs is a list containing one article on each position\n",
    "\n",
    "summaries_test = target_loader_test.load()"
   ]
  },
  {
   "cell_type": "code",
   "execution_count": 18,
   "id": "b499573a",
   "metadata": {
    "scrolled": true
   },
   "outputs": [
    {
     "name": "stdout",
     "output_type": "stream",
     "text": [
      "(Test set) - Total number of full text articles: 1746\n",
      "(Test set) - Total number of summaries: 1746\n"
     ]
    }
   ],
   "source": [
    "print(f'(Test set) - Total number of full text articles: {len(docs_test)}')\n",
    "print(f'(Test set) - Total number of summaries: {len(summaries_test)}')"
   ]
  },
  {
   "cell_type": "code",
   "execution_count": 14,
   "id": "bdb61748",
   "metadata": {},
   "outputs": [
    {
     "name": "stdout",
     "output_type": "stream",
     "text": [
      "With the sustained development of economy and the urbanization, the differences in economy and society between urban and rural areas and among regions around the nation have caught the public eyes, and how to balance the relationship between economy and population has become an inevitable issue. As the geographical conditions, cultural foundation and technological level of each region are different, each country faces a certain degree of regional disparity, and this disparity appears particularly conspicuous in a vast country like China. Despite the fact that many policies like the western development, the revitalization of the northeast old industrial base and the rise of the central have been made by How to cite this report: Zhu, J. Study on the Balance of Economy and Po-the government to narrow the regional gaps, there is no denying that the current state of population and economy among provinces is still very uneven. Generally speaking, the western region is backward in economy and the eastern region is relatively economically developed. To build a well-off society in an all-round way, we must coordinate the economic and demographic relations between the East and the West, so that the potential of our economy and the population can be released and fully utilized. In the field of economic and population research, the former scholars often separate these two aspects. Study on population distribution mainly concentrated in the population distribution is mainly focused on the changing trend and influencing factors of population spatial distribution, of which \"Aihui-Tengchong population distribution line\" proposed by Hu Huanyong is the most famous. The economic distribution is mainly focused on the spatial distribution of the economy and the description of the current situation of industrial agglomeration and its influencing factors. Over the past few years, due to the uneven distribution of population and economy resulting in the loss of spatial efficiency and regional disparities, the analysis of population and economic distribution has been paid more and more attention. At present, the literature of economy and population spatial distribution mainly focused on two aspects. The first aspect is the study of the distribution of population and economy the consistency problem, using the concept of gravity center, respectively study the population and economy center, to reveal the distribution of population and economy inconsistency. The second aspect focuses on the regional level, such as Wang Lei pointed out that the reasons for the inconsistency of the Yangtze River Delta population and economic distribution is that the speed of the regional economic center of gravity is far quicker than that of the population gravity center. Many scholars hold the view that the economic and population mismatch should be harshly blamed for leading to the urban-rural dual structure and regional imbalances and many other problems. According to many academics' research, in the process of social development in the world's most developed countries and even in many developing countries, their regional economy and the population would tend to match, meaning the level of economic development and population concentration will become more and more balanced. Especially, when the social develops to the advanced stage, the degree of economy and population matching will reach to a very high level. However it is foreseeable that China's regional economic and demographic development will also become increasingly balanced in the future spontaneously, but appropriate policy guidance and incentives can shorten the time to achieve equilibrium, which is of great benefit for the whole society. Therefore, from the perspective of economic and population matching, it is of great practical significance to study how to better arrange population flow and promote economic development in the process of economic development. In general, this report has reviewed the literature, such as the history and background of economic and population research, and then puts forward the research method of this article, then empirically studies the status and development process of China's economy and population, and finally sums up and gives policy recommendations based on the results. The GDP and population data of each provincial administrative region are de- Taiwan province. As the data in the yearbook is directly added to the provincial data, and the classification of accounting and statistical inconsistencies and other reasons, it leads to a fact that the province's total data is greater than the sum of provincial data. In this report, considering the consistency and operability, the national GDP and population data are the sum of the 31 provincial administrative regions, and the regional economy and population share are correspondingly divided by national data by provincial data. In this report, the 31 provincial administrative regions (excluding Hong Kong, Macao and Taiwan) are the objects of observation, whose GDP accounted for the proportion of the country's GDP can be used to measure the degree of economic agglomeration in the province, and the province's population (population of permanent residents) accounted for the proportion of the country's total population can be used to measure the degree of population aggregation. The regional disparity can be measured by the ratio (defined as R) of GDP per capita in the region to the national per capita GDP, which equates to the ratio of economic to population share in the region. The formula for calculation is as follows: Regional GDP Regional per capita GDP Regional population national GDP national per capita GDP national population Regional GDP Economic aggregation deg national GDP where i R measures the degree of economic and demographic matching in the region i, and i m represents the degree of economic aggregation of region i, and n i represents the population aggregation of region i. The meaning of i R value is quite obvious: when i R is less than 1, the relative scale of economic output in the region is less than the size of the population, the per capita GDP is lower than the national average, usually in the region for less developed regions; when i R = 1, the economic level and the national level;when i R > 1, the economic scale of more than the size of the population, the per capita GDP is higher than the national average, the region is usually relatively developed areas. i R = 1 is a standard state, the closer to 1, indicating that the region's economic and demographic mismatch is smaller. Referring to the previous research methods , this report constructs the regional economic and population imbalance index E, and the formula is as follows:where n is the number of individuals studied, m i is the degree of economic aggregation, and n i is the degree of population aggregation. Uneven index, and the smaller E indicates that the economy and population development degree is more balanced while a bigger E shows that the economic and population development deviated from the balance. Population Taking into account the large differences between the provincial administrative regions, so the this report constructs the absolute incremental weighting analysis of the economy and population, denoted as I m and I n , the formula is as follows:I m and I n can be used to measure real regional developments. Where i M [?] is the economic increment for a period of time, M [?] is the national economic increment during that period, i N [?] is the population increment for that period of time, N [?] is the national The population growth, and S i is the proportion of the land area of region i to the country's whole land area. flow, then there would be more distance between regional GDP share and the proportion of population, and the differences between the various places will be more obvious. According to the variance of GDP accumulation and population aggregation, the variance of GDP accumulation have experienced a process of rising-fallingrising between 1995 and 2015, which is consistent with the tendency of resources to gather in the eastern developed provinces and then move to the central and western regions. In the meantime, the variance of population aggregation have generally declined, and the variance of GDP aggregation is higher than that of population. These facts can lead to two conclusions that the degree of aggregation of population and economy does not match at the current stage, leading to the regional differences in China, and economic aggregation precedes population aggregation and plays a more important role. As the economy is more likely to match the population when the R value is closer to 1, so for ease of statistics, this report regards R values between 0. 9 and 1. 1 as a high degree of match, between 0. 7 to 0. 9 and 1. 1 to 1. 3 as a general match, Notes: The Gini coefficient is calculated by the author himself with data from previously mentioned data sources. The specific calculation of the Gini coefficient can be found in other literature, which is not discussed in detail here due to layout restrictions. It can be seen that the provinces with higher R values are mainly located in the eastern coastal areas, followed by the central provinces. The provinces with lower R values are mainly in the western provinces and some central provinces such as Jiangxi and Anhui. In general, the R value of the eastern region is higher, while the R value in the western region is lower, making the distribution of economy and population in our region very uneven, and the overall situation can be concluded as \"high in the east and low in the west\". By observing the highly matched and generally matched provinces of 2000, 2006, 2013, and 2015, it turns out that many provinces are only temporarily balanced. Moreover, as the process of industry transfers and population movements continue to advance, the list of matched and mismatched provinces is constantly changing. And in four years, there have respectively been 21, 18, 15, and 15 provinces considered as economic and demographic imbalance (The R value is outside 0. 7 to 1. 3). In general, we can see from Table 1 that the majority of the provinces have suffered the economy and population imbalance, and China's current economic and demographic imbalance among regions is still very grim. The R value of a region is the ratio of the proportion of the economy to the proportion of the population. According to this definition, when the economy and population are more balanced, the closer the R value is, the smaller the variance of the R value. Conversely, the mean value of the R value will be farther away from 1 and the greater the variance. Therefore, we can use the R value of the mean and variance to measure the national economy and population imbalance, as shown in Figure 2. As can be seen from In summary, the mean and variance of the R value and the unbalanced index generally reflects the balanced degree between China's economy and population. The three show a common conclusion, that is, from 2000 to 2015, China's economic and population imbalance has been gradually improved, and the economic and demographic situation is also moving in a balanced direction in the future. This report has been divided 2000 to 2015 into three phases, and the change in R value at each stage may be caused by economic factors, or may it be a demographic factor, but which plays a major role? We get the total differential of R [?] aswhere the first term on the right side of the equation represents the result of the economic factor, and the second represents the result of the population factor. As the length of the segment is inconsistent, the paper defines 1 * *100%a reflects the economic factor, and i b reflects the role of population factor. It should be noted that economic factor and population factor are working at the same time, may leading to two directions, that is, the signs of i a and i b symbols may not be the same. For example, the increase in the proportion of GDP makes the R increase, while the proportion of the population may also increase, then the direction of changing of R is determined by the stronger factor. With the R value of 2000 as the abscissa, the R value of 2015 is the ordinate, and (1, 1) as the origin to plot the scatter plot to reflect the overall change in R value between 2000 and 2015, as shown in Figure 4. located in the first and third quadrants except Heilongjiang and Inner Mongolia, whose economic and demographic conditions have grown from one imbalance to another. From Table 2 we can tell that the economic factors play a major role in these provinces, and what distinguishes them apart is that the Inner Mongolia's economic development has improved while Heilongjiang has trapped into a continuous economic trouble. The value of R of Inner Mongolia, Shaanxi and Guizhou has increased more than 0. 2. These three provinces are located in the western part of China, with low R values and the proportion of the economy being less than the proportion of the population in 2000. The increase of R value may owe to economic factor (the economy development)or to the population factor (the population outflow) or the two factors combined. Specifically, the reasons for the increase in R values in these three provinces are slightly different. Referring to the analysis data in Table 2, answers for the increase of R value in Inner Mongolia and Shaanxi mainly lie in the rapid economic development, while the situation in Guizhou is more complex as the population factor worked dominantly from 2000 to 2006 and economic factor was stronger from 2006 to 2015. R has declined for more than 0. 2 in Shanghai, Beijing, Guangdong, Heilongjiang, Zhejiang and Hebei. The reason for the decline in R may be economic factor (economic losers), or demographic factor (population inflows) or combined. Shanghai, Beijing, Guangdong and Zhejiang are the richest provinces in China, whose original R value is comparatively higher and stay after higher than 1. 2 after a substantial decline. The specific causes of decline are also more complex with demographic factor and economic factor alternatively play a major at different stages. The pace of development has gradually slowed down after un- longjiang and Hebei has been relatively low, but more serious is that the sharp decline is mainly economic factor, which implies that these two provinces have encountered economic difficulties in 2000 to 2015. This report calculates the GDP absolute weighting index according to Equation (3), and the results are showed in Figure 5. If the economic resources are allocated evenly across the country, then the absolute incremental weighting index is 1. Thus we can take 1 for a reference, and a score bigger than 1 implies that the corresponding area possesses more resources than the national average, otherwise lower than the national average. As shown in Figure 5 In this report, we study the degree of economic and population matching of 31 provinces in China during the period of 2000-2015, as well as the mechanism of its variation, so as to find the way to realize the balanced development of economy and population. Summarized as follows. Firstly, China's economic and population distribution between regions is not balanced, forming an overall situation of \"high in the east and low in the west\". the local government to grasp their own advantages and realize the direction of development, so as to achieve a good transition period of industrial transferring and regional balanced developing. It should be noted that some provinces in the northeastern and central regions are economically problematic and local governments need to take more effective measures to promote economic viability. In addition, the importance of population factor should be taken seriously and the government should also take measures to guide the rational flow of personnel. However, there are many deficiencies in this report still. Due to the more specific data is difficult to obtain, so this report only uses the provincial data, but the truth is that there are gaps in terms of economy and population within each province. In particular, these gaps are even more pronounced when the provinces involved are large or complex. In addition, the economy and population have a more specific structure than discussed in this report, such as different industrial structures and different age compositions. There is no distinction between these structures, so the conclusions are somewhat vague to some extent.\n",
      "Study on the Balance of Economy and Population in China during 2000-2015. From the perspective of long-term equilibrium, the proportion of a region's economy and population in the country should roughly be equal. In this report, the quotient of GDP proportion and population proportion is defined as R, whose value and characteristics of volatility accurately reflects the feature of distribution and equilibrium between economy and population. By using GIS visualization technology, this report finds that the economic and demographic distribution in Chins is still far from matching currently, with a trend of polarization between east and west. However, from 2000 to 2015, the matching degree of economy and population at the national level is actually on the rise. This report then divides apart the economic factor and demographic factor that cause the R value to change, and comes to a conclusion that the status between the economy and the population in most provinces is affected by economic factor to a greater extent, and the role of population factor is relatively minor.\n"
     ]
    }
   ],
   "source": [
    "print(docs_test[0].page_content) # indexing 0 returns the first article, indexing 1 returns the second articles, etc."
   ]
  },
  {
   "cell_type": "code",
   "execution_count": 15,
   "id": "c59920da",
   "metadata": {},
   "outputs": [
    {
     "name": "stdout",
     "output_type": "stream",
     "text": [
      "Study on the Balance of Economy and Population in China during 2000-2015. From the perspective of long-term equilibrium, the proportion of a region's economy and population in the country should roughly be equal. In this report, the quotient of GDP proportion and population proportion is defined as R, whose value and characteristics of volatility accurately reflects the feature of distribution and equilibrium between economy and population. By using GIS visualization technology, this report finds that the economic and demographic distribution in Chins is still far from matching currently, with a trend of polarization between east and west. However, from 2000 to 2015, the matching degree of economy and population at the national level is actually on the rise. This report then divides apart the economic factor and demographic factor that cause the R value to change, and comes to a conclusion that the status between the economy and the population in most provinces is affected by economic factor to a greater extent, and the role of population factor is relatively minor.\n"
     ]
    }
   ],
   "source": [
    "print(summaries_test[0].page_content)"
   ]
  },
  {
   "cell_type": "markdown",
   "id": "e6927b14",
   "metadata": {},
   "source": [
    "### Validation split"
   ]
  },
  {
   "cell_type": "code",
   "execution_count": 21,
   "id": "2fb5166e",
   "metadata": {},
   "outputs": [
    {
     "name": "stdout",
     "output_type": "stream",
     "text": [
      "(Validation set) - Total number of full text articles: 1746\n",
      "(Validation set) - Total number of summaries: 1746\n"
     ]
    }
   ],
   "source": [
    "source_loader_val = UnstructuredFileLoader(\"../data/open4business/Open4Business/val.source\", mode=\"elements\")\n",
    "target_loader_val = UnstructuredFileLoader(\"../data/open4business/Open4Business/val.target\", mode=\"elements\")\n",
    "\n",
    "docs_val = source_loader_val.load()\n",
    "summaries_val = target_loader_val.load()\n",
    "\n",
    "print(f'(Validation set) - Total number of full text articles: {len(docs_val)}')\n",
    "print(f'(Validation set) - Total number of summaries: {len(summaries_val)}')"
   ]
  },
  {
   "cell_type": "markdown",
   "id": "503ca2c4",
   "metadata": {},
   "source": [
    "### Train split"
   ]
  },
  {
   "cell_type": "code",
   "execution_count": 23,
   "id": "ab96ed91",
   "metadata": {},
   "outputs": [
    {
     "name": "stdout",
     "output_type": "stream",
     "text": [
      "(Train set) - Total number of full text articles: 13966\n",
      "(Train set) - Total number of summaries: 13966\n"
     ]
    }
   ],
   "source": [
    "source_loader_train = UnstructuredFileLoader(\"../data/open4business/Open4Business/train.source\", mode=\"elements\")\n",
    "target_loader_train = UnstructuredFileLoader(\"../data/open4business/Open4Business/train.target\", mode=\"elements\")\n",
    "\n",
    "docs_train = source_loader_train.load()\n",
    "summaries_train = target_loader_train.load()\n",
    "\n",
    "print(f'(Train set) - Total number of full text articles: {len(docs_train)}')\n",
    "print(f'(Train set) - Total number of summaries: {len(summaries_train)}')"
   ]
  },
  {
   "cell_type": "code",
   "execution_count": null,
   "id": "b79d3d2a",
   "metadata": {},
   "outputs": [],
   "source": []
  }
 ],
 "metadata": {
  "kernelspec": {
   "display_name": "Python 3 (ipykernel)",
   "language": "python",
   "name": "python3"
  },
  "language_info": {
   "codemirror_mode": {
    "name": "ipython",
    "version": 3
   },
   "file_extension": ".py",
   "mimetype": "text/x-python",
   "name": "python",
   "nbconvert_exporter": "python",
   "pygments_lexer": "ipython3",
   "version": "3.8.16"
  }
 },
 "nbformat": 4,
 "nbformat_minor": 5
}
