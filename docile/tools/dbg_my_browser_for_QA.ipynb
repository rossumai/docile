{
 "cells": [
  {
   "cell_type": "code",
   "execution_count": 1,
   "id": "8615055c-348b-4801-bf7a-0c87592a374d",
   "metadata": {},
   "outputs": [],
   "source": [
    "import json\n",
    "from pathlib import Path\n",
    "from docile.dataset import Dataset\n",
    "from docile.dataset import Field\n",
    "from docile.tools.my_dataset_browser import MyDatasetBrowser, load_predictions\n",
    "from docile.evaluation import EvaluationResult"
   ]
  },
  {
   "cell_type": "code",
   "execution_count": 2,
   "id": "253f0673-211c-4f84-a98e-5c7a5943814d",
   "metadata": {},
   "outputs": [
    {
     "name": "stderr",
     "output_type": "stream",
     "text": [
      "Loading documents for docile221221-0:test: 100%|██████████| 1000/1000 [00:04<00:00, 221.36it/s]\n"
     ]
    }
   ],
   "source": [
    "DATASET_PATH = Path(\"/storage/pif_documents/dataset_exports/docile221221-0/\")\n",
    "dataset = Dataset(\"test\", DATASET_PATH)"
   ]
  },
  {
   "cell_type": "code",
   "execution_count": 3,
   "id": "2caa8073-d8f9-4547-afd1-6e8f8f41a567",
   "metadata": {},
   "outputs": [],
   "source": [
    "from docile.evaluation.evaluate import evaluate_dataset\n",
    "\n",
    "#intermediate_predictions = load_predictions(Path(\"/storage/table_extraction/predictions/NER/fullpage_multilabel/docile221221-0/LayoutLMv3_wr025/v2/test_intermediate_predictions.json\"))\n",
    "kile_predictions = load_predictions(Path(\"/storage/table_extraction/predictions/NER/fullpage_multilabel/docile221221-0/LayoutLMv3_wr025/v2/test_predictions_KILE.json\"))\n",
    "lir_predictions = load_predictions(Path(\"/storage/table_extraction/predictions/NER/fullpage_multilabel/docile221221-0/LayoutLMv3_wr025/v2/test_predictions_LIR.json\"))\n",
    "\n",
    "intermediate_predictions = load_predictions(Path(\"/storage/table_extraction/predictions/NER/fullpage_multilabel/docile221221-0/RoBERTa_base_gas4_wr01_stride_128_new2DposEmb/test_intermediate_predictions.json\"))\n",
    "kile_predictions = load_predictions(Path(\"/storage/table_extraction/predictions/NER/fullpage_multilabel/docile221221-0/RoBERTa_base_gas4_wr01_stride_128_new2DposEmb/test_predictions_KILE.json\"))\n",
    "lir_predictions = load_predictions(Path(\"/storage/table_extraction/predictions/NER/fullpage_multilabel/docile221221-0/RoBERTa_base_gas4_wr01_stride_128_new2DposEmb/test_predictions_LIR.json\"))"
   ]
  },
  {
   "cell_type": "raw",
   "id": "bcfcf9c9-c457-4872-b8cf-8314761dbcc8",
   "metadata": {},
   "source": [
    "evaluation_result_KILE = evaluate_dataset(dataset, kile_predictions, {})\n",
    "evaluation_result_LIR = evaluate_dataset(dataset, {}, lir_predictions)\n",
    "\n",
    "evaluation_result_KILE.to_file(Path(\"/storage/table_extraction/predictions/NER/fullpage_multilabel/docile221221-0/LayoutLMv3_wr025/v2/test_results_KILE.json\"))\n",
    "evaluation_result_LIR.to_file(Path(\"/storage/table_extraction/predictions/NER/fullpage_multilabel/docile221221-0/LayoutLMv3_wr025/v2/test_results_LIR.json\"))"
   ]
  },
  {
   "cell_type": "code",
   "execution_count": 4,
   "id": "ece51b3b-d627-455a-90d0-b146d7c21de7",
   "metadata": {},
   "outputs": [],
   "source": [
    "#EVALUATION_PATHS = [\n",
    "#    Path(\"/storage/table_extraction/predictions/NER/fullpage_multilabel/docile221221-0/LayoutLMv3_wr025/v2/test_results_KILE.json\"), \n",
    "#    Path(\"/storage/table_extraction/predictions/NER/fullpage_multilabel/docile221221-0/LayoutLMv3_wr025/v2/test_results_LIR.json\")\n",
    "#]\n",
    "\n",
    "EVALUATION_PATHS = [\n",
    "    Path(\"/storage/table_extraction/predictions/NER/fullpage_multilabel/docile221221-0/RoBERTa_base_gas4_wr01_stride_128_new2DposEmb/test_results_KILE.json\"), \n",
    "    Path(\"/storage/table_extraction/predictions/NER/fullpage_multilabel/docile221221-0/RoBERTa_base_gas4_wr01_stride_128_new2DposEmb/test_results_LIR.json\")\n",
    "]\n",
    "\n",
    "evaluation_results = EvaluationResult.from_files(*EVALUATION_PATHS)"
   ]
  },
  {
   "cell_type": "code",
   "execution_count": null,
   "id": "62633bd0-6f38-4ee0-805f-8fdeb7e0a34a",
   "metadata": {},
   "outputs": [],
   "source": [
    "#kile_predictions"
   ]
  },
  {
   "cell_type": "code",
   "execution_count": 5,
   "id": "b790b8c1-9a48-4a4e-9979-318c7356d446",
   "metadata": {},
   "outputs": [
    {
     "data": {
      "application/vnd.jupyter.widget-view+json": {
       "model_id": "28af6ac79d3842ec9e2d1235514cd576",
       "version_major": 2,
       "version_minor": 0
      },
      "text/plain": [
       "VBox(children=(HBox(children=(Button(icon='arrow-left', layout=Layout(flex='0 0 auto', width='auto'), style=Bu…"
      ]
     },
     "metadata": {},
     "output_type": "display_data"
    }
   ],
   "source": [
    "callbacks = [\"Annotations_KILE\", \"Annotations_LIR\", \"Predictions_KILE\", \"Predictions_LIR\", \"Predictions_intermediate\"]\n",
    "browser = MyDatasetBrowser(dataset, evaluation_results=evaluation_results, kile_predictions=kile_predictions, lir_predictions=lir_predictions, intermediate_predictions=intermediate_predictions, callbacks=callbacks)"
   ]
  },
  {
   "cell_type": "code",
   "execution_count": null,
   "id": "5a103a17-104d-4513-84ad-c999779a45ec",
   "metadata": {},
   "outputs": [],
   "source": []
  },
  {
   "cell_type": "code",
   "execution_count": 7,
   "id": "6ba97aef-be4f-4fd5-980e-c68641e49a46",
   "metadata": {},
   "outputs": [],
   "source": [
    "kile_f1 = [browser.evaluation_results.get_metrics(\"kile\", docid=x.docid)[\"f1\"] for x in browser.dataset]"
   ]
  },
  {
   "cell_type": "code",
   "execution_count": 24,
   "id": "df7ad5ac-d42a-48a0-b490-a7fb8b78fee2",
   "metadata": {},
   "outputs": [
    {
     "data": {
      "text/plain": [
       "[<matplotlib.lines.Line2D at 0x7fb3e3392620>]"
      ]
     },
     "execution_count": 24,
     "metadata": {},
     "output_type": "execute_result"
    },
    {
     "data": {
      "image/png": "[encoded data removed]",
      "text/plain": [
       "<Figure size 640x480 with 1 Axes>"
      ]
     },
     "metadata": {},
     "output_type": "display_data"
    }
   ],
   "source": [
    "import matplotlib.pyplot as plt \n",
    "task = \"kile\"\n",
    "#task = \"lir\"\n",
    "#metric = \"f1\"\n",
    "#metric = \"AP\"\n",
    "#metric = \"precision\"\n",
    "metric = \"recall\"\n",
    "values = [browser.evaluation_results.get_metrics(task, docid=x.docid)[metric] for x in browser.dataset]\n",
    "values.sort()\n",
    "plt.plot(values)"
   ]
  },
  {
   "cell_type": "code",
   "execution_count": null,
   "id": "420fe3da-474b-4852-b6a6-61dfec78acd8",
   "metadata": {},
   "outputs": [],
   "source": [
    "browser.evaluation_results.get_metrics(\"kile\", docid=browser.document.docid)"
   ]
  },
  {
   "cell_type": "code",
   "execution_count": null,
   "id": "f7ea61c8-909c-4d0d-ac4e-24169b78f665",
   "metadata": {},
   "outputs": [],
   "source": [
    "#browser.document_tabs.children[browser.page].value\n",
    "#browser.svg_content"
   ]
  },
  {
   "cell_type": "code",
   "execution_count": null,
   "id": "bcd2c35b-1347-4186-af69-faab8080eafe",
   "metadata": {},
   "outputs": [],
   "source": [
    "#dataset.documents[0].page_image(0)\n",
    "#dataset.documents[0].page_image(0).size[1]\n",
    "dataset.documents[0].annotation.fields[0].bbox.to_tuple()[0]"
   ]
  },
  {
   "cell_type": "code",
   "execution_count": null,
   "id": "12d5b3fa-22e8-4a73-9f0c-306b91e66a77",
   "metadata": {},
   "outputs": [],
   "source": [
    "from docile.evaluation.evaluate import compute_metrics\n",
    "compute_metrics(browser.evaluation_result_KILE.task_to_docid_to_matching[\"kile\"][browser.document.docid])"
   ]
  },
  {
   "cell_type": "code",
   "execution_count": null,
   "id": "6d810aa4-633e-4132-a30a-57ccbaf6a1d7",
   "metadata": {},
   "outputs": [],
   "source": [
    "print(browser.evaluation_result_KILE.print_report(browser.document.docid))"
   ]
  },
  {
   "cell_type": "code",
   "execution_count": null,
   "id": "b2ce883b-98e9-4583-b8df-3e0e26f71c21",
   "metadata": {},
   "outputs": [],
   "source": [
    "browser.evaluation_result_KILE.get_metrics(\"kile\", docid=browser.document.docid)"
   ]
  },
  {
   "cell_type": "code",
   "execution_count": null,
   "id": "02709cc1-bfdf-419b-b323-55580a58d06e",
   "metadata": {},
   "outputs": [],
   "source": [
    "browser.evaluation_result_LIR.get_metrics(\"lir\", docid=browser.document.docid)"
   ]
  }
 ],
 "metadata": {
  "kernelspec": {
   "display_name": "Python 3 (ipykernel)",
   "language": "python",
   "name": "python3"
  },
  "language_info": {
   "codemirror_mode": {
    "name": "ipython",
    "version": 3
   },
   "file_extension": ".py",
   "mimetype": "text/x-python",
   "name": "python",
   "nbconvert_exporter": "python",
   "pygments_lexer": "ipython3",
   "version": "3.10.6"
  }
 },
 "nbformat": 4,
 "nbformat_minor": 5
}
