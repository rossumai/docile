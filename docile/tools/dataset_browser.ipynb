{
 "cells": [
  {
   "cell_type": "code",
   "execution_count": null,
   "id": "bcdaf56f-c860-430b-937d-ea072cae88b6",
   "metadata": {},
   "outputs": [],
   "source": [
    "import json\n",
    "from pathlib import Path\n",
    "from docile.dataset import Dataset\n",
    "from docile.dataset import Field\n",
    "from docile.tools.dataset_browser import DatasetBrowser"
   ]
  },
  {
   "cell_type": "code",
   "execution_count": null,
   "id": "b367b0d2-5397-4910-b592-15079933deb5",
   "metadata": {},
   "outputs": [],
   "source": [
    "DATASET_PATH = Path(\"/path/to/dataset/\")\n",
    "dataset = Dataset(\"val\", DATASET_PATH)"
   ]
  },
  {
   "cell_type": "code",
   "execution_count": null,
   "id": "2009e26f-9518-4c9c-ada7-a7c23da83a3e",
   "metadata": {},
   "outputs": [],
   "source": [
    "PREDICTION_PATH=Path(\"/path/to/predictions.json\")\n",
    "\n",
    "docid_to_predictions = {}\n",
    "if PREDICTION_PATH.exists():\n",
    "    docid_to_predictions_raw = json.loads((PREDICTION_PATH).read_text())       \n",
    "    docid_to_predictions = {\n",
    "        docid: [Field.from_dict(f) for f in fields]\n",
    "        for docid, fields in docid_to_predictions_raw.items()\n",
    "    }\n",
    "    total_predictions = sum(len(predictions) for predictions in docid_to_predictions.values())\n",
    "    print(f\"Loaded {total_predictions} predictions for {len(docid_to_predictions)} documents\")\n",
    "else:\n",
    "    print(\"No predictions found.\")"
   ]
  },
  {
   "cell_type": "code",
   "execution_count": null,
   "id": "f0ba6af9-2ed2-4021-98b3-49571bef458c",
   "metadata": {},
   "outputs": [],
   "source": [
    "DatasetBrowser(dataset, lir_predictions=docid_to_predictions)"
   ]
  }
 ],
 "metadata": {
  "kernelspec": {
   "display_name": "Python 3 (ipykernel)",
   "language": "python",
   "name": "python3"
  },
  "language_info": {
   "codemirror_mode": {
    "name": "ipython",
    "version": 3
   },
   "file_extension": ".py",
   "mimetype": "text/x-python",
   "name": "python",
   "nbconvert_exporter": "python",
   "pygments_lexer": "ipython3",
   "version": "3.10.9"
  }
 },
 "nbformat": 4,
 "nbformat_minor": 5
}
