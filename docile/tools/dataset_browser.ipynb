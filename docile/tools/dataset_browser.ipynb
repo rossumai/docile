{
 "cells": [
  {
   "cell_type": "code",
   "execution_count": null,
   "id": "bcdaf56f-c860-430b-937d-ea072cae88b6",
   "metadata": {},
   "outputs": [],
   "source": [
    "import json\n",
    "from pathlib import Path\n",
    "from docile.dataset import Dataset\n",
    "from docile.dataset import Field\n",
    "from docile.tools.dataset_browser import DatasetBrowser"
   ]
  },
  {
   "cell_type": "code",
   "execution_count": null,
   "id": "b367b0d2-5397-4910-b592-15079933deb5",
   "metadata": {},
   "outputs": [],
   "source": [
    "DATASET_PATH = Path(\"/app/data/docile/\")\n",
    "dataset = Dataset(\"val\", DATASET_PATH)"
   ]
  },
  {
   "cell_type": "markdown",
   "id": "025ba00e",
   "metadata": {},
   "source": [
    "# Display dataset annotations"
   ]
  },
  {
   "cell_type": "code",
   "execution_count": null,
   "id": "53119948",
   "metadata": {},
   "outputs": [],
   "source": [
    "DatasetBrowser(dataset)"
   ]
  },
  {
   "cell_type": "markdown",
   "id": "92c42de6",
   "metadata": {},
   "source": [
    "# Display with predictions"
   ]
  },
  {
   "cell_type": "code",
   "execution_count": null,
   "id": "2009e26f-9518-4c9c-ada7-a7c23da83a3e",
   "metadata": {},
   "outputs": [],
   "source": [
    "from docile.dataset import load_predictions\n",
    "\n",
    "KILE_PREDICTION_PATH=Path(\"example_val_predictions_KILE.json\")\n",
    "LIR_PREDICTION_PATH=Path(\"example_val_predictions_LIR.json\")\n",
    "\n",
    "kile_predictions = load_predictions(KILE_PREDICTION_PATH)\n",
    "lir_predictions = load_predictions(LIR_PREDICTION_PATH)"
   ]
  },
  {
   "cell_type": "code",
   "execution_count": null,
   "id": "f0ba6af9-2ed2-4021-98b3-49571bef458c",
   "metadata": {},
   "outputs": [],
   "source": [
    "DatasetBrowser(dataset, kile_predictions=kile_predictions, lir_predictions=lir_predictions);\n",
    "# you can also display just single task predictions, e.g.:\n",
    "# DatasetBrowser(dataset, lir_predictions=lir_predictions);"
   ]
  },
  {
   "cell_type": "markdown",
   "id": "2a480145",
   "metadata": {},
   "source": [
    "# Display with matching from evaluation"
   ]
  },
  {
   "cell_type": "code",
   "execution_count": null,
   "id": "a2290afa",
   "metadata": {},
   "outputs": [],
   "source": [
    "from docile.evaluation.evaluate import EvaluationResult\n",
    "\n",
    "KILE_EVALUATION_PATH=Path(\"example_val_results_KILE.json\")\n",
    "LIR_EVALUATION_PATH=Path(\"example_val_results_LIR.json\")\n",
    "\n",
    "\n",
    "kile_evaluation_result = EvaluationResult.from_file(KILE_EVALUATION_PATH)\n",
    "kile_matching = kile_evaluation_result.task_to_docid_to_matching[\"kile\"]\n",
    "\n",
    "lir_evaluation_result = EvaluationResult.from_file(LIR_EVALUATION_PATH)\n",
    "lir_matching = lir_evaluation_result.task_to_docid_to_matching[\"lir\"]"
   ]
  },
  {
   "cell_type": "code",
   "execution_count": null,
   "id": "c612fb67-79b3-4615-883d-e8408480582e",
   "metadata": {},
   "outputs": [],
   "source": [
    "DatasetBrowser(dataset, kile_matching=kile_matching, lir_matching=lir_matching)"
   ]
  }
 ],
 "metadata": {
  "kernelspec": {
   "display_name": "Python 3 (ipykernel)",
   "language": "python",
   "name": "python3"
  },
  "language_info": {
   "codemirror_mode": {
    "name": "ipython",
    "version": 3
   },
   "file_extension": ".py",
   "mimetype": "text/x-python",
   "name": "python",
   "nbconvert_exporter": "python",
   "pygments_lexer": "ipython3",
   "version": "3.10.9"
  }
 },
 "nbformat": 4,
 "nbformat_minor": 5
}
